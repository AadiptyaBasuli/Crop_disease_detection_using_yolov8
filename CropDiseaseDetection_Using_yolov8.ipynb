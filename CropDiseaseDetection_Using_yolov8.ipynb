{
  "cells": [
    {
      "cell_type": "markdown",
      "metadata": {
        "id": "view-in-github",
        "colab_type": "text"
      },
      "source": [
        "<a href=\"https://colab.research.google.com/github/AadiptyaBasuli/Crop_disease_detection_using_yolov8/blob/main/CropDiseaseDetection_Using_yolov8.ipynb\" target=\"_parent\"><img src=\"https://colab.research.google.com/assets/colab-badge.svg\" alt=\"Open In Colab\"/></a>"
      ]
    },
    {
      "cell_type": "code",
      "execution_count": null,
      "metadata": {
        "colab": {
          "base_uri": "https://localhost:8080/"
        },
        "id": "gL91tzRSrpX8",
        "outputId": "cd3f780d-d0be-4a24-f600-22b77ca436ec"
      },
      "outputs": [
        {
          "output_type": "stream",
          "name": "stdout",
          "text": [
            "Collecting ultralytics\n",
            "  Downloading ultralytics-8.1.6-py3-none-any.whl (705 kB)\n",
            "\u001b[2K     \u001b[90m━━━━━━━━━━━━━━━━━━━━━━━━━━━━━━━━━━━━━━━━\u001b[0m \u001b[32m705.0/705.0 kB\u001b[0m \u001b[31m9.1 MB/s\u001b[0m eta \u001b[36m0:00:00\u001b[0m\n",
            "\u001b[?25hRequirement already satisfied: matplotlib>=3.3.0 in /usr/local/lib/python3.10/dist-packages (from ultralytics) (3.7.1)\n",
            "Requirement already satisfied: numpy>=1.22.2 in /usr/local/lib/python3.10/dist-packages (from ultralytics) (1.23.5)\n",
            "Requirement already satisfied: opencv-python>=4.6.0 in /usr/local/lib/python3.10/dist-packages (from ultralytics) (4.8.0.76)\n",
            "Requirement already satisfied: pillow>=7.1.2 in /usr/local/lib/python3.10/dist-packages (from ultralytics) (9.4.0)\n",
            "Requirement already satisfied: pyyaml>=5.3.1 in /usr/local/lib/python3.10/dist-packages (from ultralytics) (6.0.1)\n",
            "Requirement already satisfied: requests>=2.23.0 in /usr/local/lib/python3.10/dist-packages (from ultralytics) (2.31.0)\n",
            "Requirement already satisfied: scipy>=1.4.1 in /usr/local/lib/python3.10/dist-packages (from ultralytics) (1.11.4)\n",
            "Requirement already satisfied: torch>=1.8.0 in /usr/local/lib/python3.10/dist-packages (from ultralytics) (2.1.0+cu121)\n",
            "Requirement already satisfied: torchvision>=0.9.0 in /usr/local/lib/python3.10/dist-packages (from ultralytics) (0.16.0+cu121)\n",
            "Requirement already satisfied: tqdm>=4.64.0 in /usr/local/lib/python3.10/dist-packages (from ultralytics) (4.66.1)\n",
            "Requirement already satisfied: psutil in /usr/local/lib/python3.10/dist-packages (from ultralytics) (5.9.5)\n",
            "Requirement already satisfied: py-cpuinfo in /usr/local/lib/python3.10/dist-packages (from ultralytics) (9.0.0)\n",
            "Collecting thop>=0.1.1 (from ultralytics)\n",
            "  Downloading thop-0.1.1.post2209072238-py3-none-any.whl (15 kB)\n",
            "Requirement already satisfied: pandas>=1.1.4 in /usr/local/lib/python3.10/dist-packages (from ultralytics) (1.5.3)\n",
            "Requirement already satisfied: seaborn>=0.11.0 in /usr/local/lib/python3.10/dist-packages (from ultralytics) (0.13.1)\n",
            "Requirement already satisfied: contourpy>=1.0.1 in /usr/local/lib/python3.10/dist-packages (from matplotlib>=3.3.0->ultralytics) (1.2.0)\n",
            "Requirement already satisfied: cycler>=0.10 in /usr/local/lib/python3.10/dist-packages (from matplotlib>=3.3.0->ultralytics) (0.12.1)\n",
            "Requirement already satisfied: fonttools>=4.22.0 in /usr/local/lib/python3.10/dist-packages (from matplotlib>=3.3.0->ultralytics) (4.47.2)\n",
            "Requirement already satisfied: kiwisolver>=1.0.1 in /usr/local/lib/python3.10/dist-packages (from matplotlib>=3.3.0->ultralytics) (1.4.5)\n",
            "Requirement already satisfied: packaging>=20.0 in /usr/local/lib/python3.10/dist-packages (from matplotlib>=3.3.0->ultralytics) (23.2)\n",
            "Requirement already satisfied: pyparsing>=2.3.1 in /usr/local/lib/python3.10/dist-packages (from matplotlib>=3.3.0->ultralytics) (3.1.1)\n",
            "Requirement already satisfied: python-dateutil>=2.7 in /usr/local/lib/python3.10/dist-packages (from matplotlib>=3.3.0->ultralytics) (2.8.2)\n",
            "Requirement already satisfied: pytz>=2020.1 in /usr/local/lib/python3.10/dist-packages (from pandas>=1.1.4->ultralytics) (2023.3.post1)\n",
            "Requirement already satisfied: charset-normalizer<4,>=2 in /usr/local/lib/python3.10/dist-packages (from requests>=2.23.0->ultralytics) (3.3.2)\n",
            "Requirement already satisfied: idna<4,>=2.5 in /usr/local/lib/python3.10/dist-packages (from requests>=2.23.0->ultralytics) (3.6)\n",
            "Requirement already satisfied: urllib3<3,>=1.21.1 in /usr/local/lib/python3.10/dist-packages (from requests>=2.23.0->ultralytics) (2.0.7)\n",
            "Requirement already satisfied: certifi>=2017.4.17 in /usr/local/lib/python3.10/dist-packages (from requests>=2.23.0->ultralytics) (2023.11.17)\n",
            "Requirement already satisfied: filelock in /usr/local/lib/python3.10/dist-packages (from torch>=1.8.0->ultralytics) (3.13.1)\n",
            "Requirement already satisfied: typing-extensions in /usr/local/lib/python3.10/dist-packages (from torch>=1.8.0->ultralytics) (4.5.0)\n",
            "Requirement already satisfied: sympy in /usr/local/lib/python3.10/dist-packages (from torch>=1.8.0->ultralytics) (1.12)\n",
            "Requirement already satisfied: networkx in /usr/local/lib/python3.10/dist-packages (from torch>=1.8.0->ultralytics) (3.2.1)\n",
            "Requirement already satisfied: jinja2 in /usr/local/lib/python3.10/dist-packages (from torch>=1.8.0->ultralytics) (3.1.3)\n",
            "Requirement already satisfied: fsspec in /usr/local/lib/python3.10/dist-packages (from torch>=1.8.0->ultralytics) (2023.6.0)\n",
            "Requirement already satisfied: triton==2.1.0 in /usr/local/lib/python3.10/dist-packages (from torch>=1.8.0->ultralytics) (2.1.0)\n",
            "Requirement already satisfied: six>=1.5 in /usr/local/lib/python3.10/dist-packages (from python-dateutil>=2.7->matplotlib>=3.3.0->ultralytics) (1.16.0)\n",
            "Requirement already satisfied: MarkupSafe>=2.0 in /usr/local/lib/python3.10/dist-packages (from jinja2->torch>=1.8.0->ultralytics) (2.1.4)\n",
            "Requirement already satisfied: mpmath>=0.19 in /usr/local/lib/python3.10/dist-packages (from sympy->torch>=1.8.0->ultralytics) (1.3.0)\n",
            "Installing collected packages: thop, ultralytics\n",
            "Successfully installed thop-0.1.1.post2209072238 ultralytics-8.1.6\n"
          ]
        }
      ],
      "source": [
        "!pip install ultralytics"
      ]
    },
    {
      "cell_type": "code",
      "execution_count": null,
      "metadata": {
        "colab": {
          "base_uri": "https://localhost:8080/"
        },
        "id": "L9FKF9mC4T0c",
        "outputId": "d6f90dd6-f0cd-49fd-b0ba-e6aea81a25bd"
      },
      "outputs": [
        {
          "output_type": "stream",
          "name": "stdout",
          "text": [
            "Requirement already satisfied: tqdm in /usr/local/lib/python3.10/dist-packages (4.66.1)\n",
            "\u001b[31mERROR: Could not find a version that satisfies the requirement upgrade (from versions: none)\u001b[0m\u001b[31m\n",
            "\u001b[0m\u001b[31mERROR: No matching distribution found for upgrade\u001b[0m\u001b[31m\n",
            "\u001b[0m"
          ]
        }
      ],
      "source": [
        "import os\n",
        "import shutil\n",
        "import random\n",
        "!pip install tqdm -- upgrade\n",
        "from tqdm.notebook import tqdm"
      ]
    },
    {
      "cell_type": "code",
      "execution_count": null,
      "metadata": {
        "colab": {
          "base_uri": "https://localhost:8080/"
        },
        "id": "QaARPbJNPaj6",
        "outputId": "7e4d17c3-0215-47dd-862b-fdf9973a258e"
      },
      "outputs": [
        {
          "output_type": "stream",
          "name": "stdout",
          "text": [
            "Drive already mounted at /content/drive; to attempt to forcibly remount, call drive.mount(\"/content/drive\", force_remount=True).\n"
          ]
        }
      ],
      "source": [
        "from google.colab import drive\n",
        "drive.mount('/content/drive')"
      ]
    },
    {
      "cell_type": "code",
      "execution_count": null,
      "metadata": {
        "id": "WHDMubnlBYQz"
      },
      "outputs": [],
      "source": [
        "train_path_image = \"/content/drive/MyDrive/Minor_project/plant_dataset/train/images\"\n",
        "train_path_label = \" /content/drive/MyDrive/Minor_project/plant_dataset/train/labels\"\n",
        "val_path_image = \" /content/drive/MyDrive/Minor_project/plant_dataset/valid/images\"\n",
        "val_path_label = \"/content/drive/MyDrive/Minor_project/plant_dataset/valid/labels\"\n",
        "test_path_image = \"/content/drive/MyDrive/Minor_project/plant_dataset/test/images\""
      ]
    },
    {
      "cell_type": "code",
      "execution_count": null,
      "metadata": {
        "id": "g4nBuBNlCkso"
      },
      "outputs": [],
      "source": [
        "def train_test_split(path,neg_path=None, split=0.2):\n",
        "  print(\"Process started\")\n",
        "\n",
        "  files=list(set([name[:-4] for name in os.listdir(path)]))\n",
        "\n",
        "  print(f\"This folder has total number of  {len(files)}images \")\n",
        "  random.seed(42)\n",
        "  random.shuffle(files)\n",
        "\n",
        "  test_size = int(len(files) * split)\n",
        "  train_size = len(files) - test_size\n",
        "\n",
        "\n",
        "  os.makedirs(train_path_image, exist_ok=True)\n",
        "  os.makedirs(train_path_label, exist_ok=True)\n",
        "  os.makedirs(val_path_image, exist_ok=True)\n",
        "  os.makedirs(val_path_label, exist_ok=True)\n",
        "\n",
        "  for filex in tqdm(files[: train_size]):\n",
        "    if filex == 'classes':\n",
        "      continue\n",
        "      shutil.copy2(path + filex + '.jpg', f\"{val_path_img}/\" + filex + '.jpg')\n",
        "      shutil.copy2(path + filex + '.txt', f\"{val_path_label}/\" + filex + '.txt')\n",
        "\n",
        "    print(f\"Testing data created with a total of {len(files[train_size:])} images\")\n",
        "    print(\"Task Completed\")\n",
        "\n",
        "  train_test_split('/content/drive/MyDrive/Minor_project/plant_dataset/data.yaml')"
      ]
    },
    {
      "cell_type": "code",
      "execution_count": null,
      "metadata": {
        "colab": {
          "base_uri": "https://localhost:8080/"
        },
        "id": "JFKXRqQbbvpA",
        "outputId": "b8084f0f-fa23-45ee-91a1-a2aa1a1d8246"
      },
      "outputs": [
        {
          "output_type": "stream",
          "name": "stdout",
          "text": [
            "Ultralytics YOLOv8.1.6 🚀 Python-3.10.12 torch-2.1.0+cu121 CPU (Intel Xeon 2.20GHz)\n",
            "Setup complete ✅ (2 CPUs, 12.7 GB RAM, 26.3/107.7 GB disk)\n"
          ]
        }
      ],
      "source": [
        "import ultralytics\n",
        "ultralytics.checks()"
      ]
    },
    {
      "cell_type": "code",
      "source": [
        "!yolo task= detect mode= train model=yolov8l.pt data = /content/drive/MyDrive/Minor_project/plant_dataset/data.yaml epochs=5 imgsz=64 batch=32 project=/content/drive/MyDrive/Minor_project/plant_dataset/results name=leaves"
      ],
      "metadata": {
        "colab": {
          "base_uri": "https://localhost:8080/"
        },
        "id": "TtWTJZ3ZIlCM",
        "outputId": "c34353e7-982f-41a6-e423-bc013bdc7246"
      },
      "execution_count": null,
      "outputs": [
        {
          "output_type": "stream",
          "name": "stdout",
          "text": [
            "Ultralytics YOLOv8.1.6 🚀 Python-3.10.12 torch-2.1.0+cu121 CPU (Intel Xeon 2.20GHz)\n",
            "\u001b[34m\u001b[1mengine/trainer: \u001b[0mtask=detect, mode=train, model=yolov8l.pt, data=/content/drive/MyDrive/Minor_project/plant_dataset/data.yaml, epochs=5, time=None, patience=50, batch=32, imgsz=64, save=True, save_period=-1, cache=False, device=None, workers=8, project=/content/drive/MyDrive/Minor_project/plant_dataset/results, name=leaves10, exist_ok=False, pretrained=True, optimizer=auto, verbose=True, seed=0, deterministic=True, single_cls=False, rect=False, cos_lr=False, close_mosaic=10, resume=False, amp=True, fraction=1.0, profile=False, freeze=None, multi_scale=False, overlap_mask=True, mask_ratio=4, dropout=0.0, val=True, split=val, save_json=False, save_hybrid=False, conf=None, iou=0.7, max_det=300, half=False, dnn=False, plots=True, source=None, vid_stride=1, stream_buffer=False, visualize=False, augment=False, agnostic_nms=False, classes=None, retina_masks=False, embed=None, show=False, save_frames=False, save_txt=False, save_conf=False, save_crop=False, show_labels=True, show_conf=True, show_boxes=True, line_width=None, format=torchscript, keras=False, optimize=False, int8=False, dynamic=False, simplify=False, opset=None, workspace=4, nms=False, lr0=0.01, lrf=0.01, momentum=0.937, weight_decay=0.0005, warmup_epochs=3.0, warmup_momentum=0.8, warmup_bias_lr=0.1, box=7.5, cls=0.5, dfl=1.5, pose=12.0, kobj=1.0, label_smoothing=0.0, nbs=64, hsv_h=0.015, hsv_s=0.7, hsv_v=0.4, degrees=0.0, translate=0.1, scale=0.5, shear=0.0, perspective=0.0, flipud=0.0, fliplr=0.5, mosaic=1.0, mixup=0.0, copy_paste=0.0, auto_augment=randaugment, erasing=0.4, crop_fraction=1.0, cfg=None, tracker=botsort.yaml, save_dir=/content/drive/MyDrive/Minor_project/plant_dataset/results/leaves10\n",
            "2024-01-26 04:58:53.692595: E external/local_xla/xla/stream_executor/cuda/cuda_dnn.cc:9261] Unable to register cuDNN factory: Attempting to register factory for plugin cuDNN when one has already been registered\n",
            "2024-01-26 04:58:53.692656: E external/local_xla/xla/stream_executor/cuda/cuda_fft.cc:607] Unable to register cuFFT factory: Attempting to register factory for plugin cuFFT when one has already been registered\n",
            "2024-01-26 04:58:53.694013: E external/local_xla/xla/stream_executor/cuda/cuda_blas.cc:1515] Unable to register cuBLAS factory: Attempting to register factory for plugin cuBLAS when one has already been registered\n",
            "Overriding model.yaml nc=80 with nc=30\n",
            "\n",
            "                   from  n    params  module                                       arguments                     \n",
            "  0                  -1  1      1856  ultralytics.nn.modules.conv.Conv             [3, 64, 3, 2]                 \n",
            "  1                  -1  1     73984  ultralytics.nn.modules.conv.Conv             [64, 128, 3, 2]               \n",
            "  2                  -1  3    279808  ultralytics.nn.modules.block.C2f             [128, 128, 3, True]           \n",
            "  3                  -1  1    295424  ultralytics.nn.modules.conv.Conv             [128, 256, 3, 2]              \n",
            "  4                  -1  6   2101248  ultralytics.nn.modules.block.C2f             [256, 256, 6, True]           \n",
            "  5                  -1  1   1180672  ultralytics.nn.modules.conv.Conv             [256, 512, 3, 2]              \n",
            "  6                  -1  6   8396800  ultralytics.nn.modules.block.C2f             [512, 512, 6, True]           \n",
            "  7                  -1  1   2360320  ultralytics.nn.modules.conv.Conv             [512, 512, 3, 2]              \n",
            "  8                  -1  3   4461568  ultralytics.nn.modules.block.C2f             [512, 512, 3, True]           \n",
            "  9                  -1  1    656896  ultralytics.nn.modules.block.SPPF            [512, 512, 5]                 \n",
            " 10                  -1  1         0  torch.nn.modules.upsampling.Upsample         [None, 2, 'nearest']          \n",
            " 11             [-1, 6]  1         0  ultralytics.nn.modules.conv.Concat           [1]                           \n",
            " 12                  -1  3   4723712  ultralytics.nn.modules.block.C2f             [1024, 512, 3]                \n",
            " 13                  -1  1         0  torch.nn.modules.upsampling.Upsample         [None, 2, 'nearest']          \n",
            " 14             [-1, 4]  1         0  ultralytics.nn.modules.conv.Concat           [1]                           \n",
            " 15                  -1  3   1247744  ultralytics.nn.modules.block.C2f             [768, 256, 3]                 \n",
            " 16                  -1  1    590336  ultralytics.nn.modules.conv.Conv             [256, 256, 3, 2]              \n",
            " 17            [-1, 12]  1         0  ultralytics.nn.modules.conv.Concat           [1]                           \n",
            " 18                  -1  3   4592640  ultralytics.nn.modules.block.C2f             [768, 512, 3]                 \n",
            " 19                  -1  1   2360320  ultralytics.nn.modules.conv.Conv             [512, 512, 3, 2]              \n",
            " 20             [-1, 9]  1         0  ultralytics.nn.modules.conv.Concat           [1]                           \n",
            " 21                  -1  3   4723712  ultralytics.nn.modules.block.C2f             [1024, 512, 3]                \n",
            " 22        [15, 18, 21]  1   5605930  ultralytics.nn.modules.head.Detect           [30, [256, 512, 512]]         \n",
            "Model summary: 365 layers, 43652970 parameters, 43652954 gradients, 165.5 GFLOPs\n",
            "\n",
            "Transferred 589/595 items from pretrained weights\n",
            "\u001b[34m\u001b[1mTensorBoard: \u001b[0mStart with 'tensorboard --logdir /content/drive/MyDrive/Minor_project/plant_dataset/results/leaves10', view at http://localhost:6006/\n",
            "Freezing layer 'model.22.dfl.conv.weight'\n",
            "\u001b[34m\u001b[1mtrain: \u001b[0mScanning /content/drive/MyDrive/Minor_project/plant_dataset/train/labels.cache... 3246 images, 0 backgrounds, 0 corrupt: 100% 3246/3246 [00:00<?, ?it/s]\n",
            "\u001b[34m\u001b[1malbumentations: \u001b[0mBlur(p=0.01, blur_limit=(3, 7)), MedianBlur(p=0.01, blur_limit=(3, 7)), ToGray(p=0.01), CLAHE(p=0.01, clip_limit=(1, 4.0), tile_grid_size=(8, 8))\n",
            "\u001b[34m\u001b[1mval: \u001b[0mScanning /content/drive/MyDrive/Minor_project/plant_dataset/valid/labels.cache... 465 images, 0 backgrounds, 0 corrupt: 100% 465/465 [00:00<?, ?it/s]\n",
            "Plotting labels to /content/drive/MyDrive/Minor_project/plant_dataset/results/leaves10/labels.jpg... \n",
            "\u001b[34m\u001b[1moptimizer:\u001b[0m 'optimizer=auto' found, ignoring 'lr0=0.01' and 'momentum=0.937' and determining best 'optimizer', 'lr0' and 'momentum' automatically... \n",
            "\u001b[34m\u001b[1moptimizer:\u001b[0m AdamW(lr=0.000294, momentum=0.9) with parameter groups 97 weight(decay=0.0), 104 weight(decay=0.0005), 103 bias(decay=0.0)\n",
            "\u001b[34m\u001b[1mTensorBoard: \u001b[0mmodel graph visualization added ✅\n",
            "Image sizes 64 train, 64 val\n",
            "Using 0 dataloader workers\n",
            "Logging results to \u001b[1m/content/drive/MyDrive/Minor_project/plant_dataset/results/leaves10\u001b[0m\n",
            "Starting training for 5 epochs...\n",
            "\n",
            "      Epoch    GPU_mem   box_loss   cls_loss   dfl_loss  Instances       Size\n",
            "        1/5         0G      2.813      4.255      1.445        210         64: 100% 102/102 [10:51<00:00,  6.39s/it]\n",
            "                 Class     Images  Instances      Box(P          R      mAP50  mAP50-95): 100% 8/8 [05:53<00:00, 44.17s/it]\n",
            "                   all        465       5772      0.175     0.0881     0.0254     0.0143\n",
            "\n",
            "      Epoch    GPU_mem   box_loss   cls_loss   dfl_loss  Instances       Size\n",
            "        2/5         0G      2.303      2.654      1.223        254         64: 100% 102/102 [09:43<00:00,  5.72s/it]\n",
            "                 Class     Images  Instances      Box(P          R      mAP50  mAP50-95): 100% 8/8 [00:47<00:00,  5.96s/it]\n",
            "                   all        465       5772      0.248     0.0955     0.0444     0.0248\n",
            "\n",
            "      Epoch    GPU_mem   box_loss   cls_loss   dfl_loss  Instances       Size\n",
            "        3/5         0G       2.11      2.413      1.172        245         64: 100% 102/102 [09:18<00:00,  5.47s/it]\n",
            "                 Class     Images  Instances      Box(P          R      mAP50  mAP50-95): 100% 8/8 [00:47<00:00,  5.99s/it]\n",
            "                   all        465       5772      0.259     0.0983     0.0583     0.0338\n",
            "\n",
            "      Epoch    GPU_mem   box_loss   cls_loss   dfl_loss  Instances       Size\n",
            "        4/5         0G      2.059      2.341      1.151        255         64: 100% 102/102 [09:19<00:00,  5.48s/it]\n",
            "                 Class     Images  Instances      Box(P          R      mAP50  mAP50-95): 100% 8/8 [00:49<00:00,  6.18s/it]\n",
            "                   all        465       5772      0.239      0.115     0.0686      0.041\n",
            "\n",
            "      Epoch    GPU_mem   box_loss   cls_loss   dfl_loss  Instances       Size\n",
            "        5/5         0G      2.024      2.317      1.135        215         64: 100% 102/102 [09:20<00:00,  5.49s/it]\n",
            "                 Class     Images  Instances      Box(P          R      mAP50  mAP50-95): 100% 8/8 [00:47<00:00,  5.95s/it]\n",
            "                   all        465       5772      0.251      0.117     0.0741     0.0446\n",
            "\n",
            "5 epochs completed in 0.979 hours.\n",
            "Optimizer stripped from /content/drive/MyDrive/Minor_project/plant_dataset/results/leaves10/weights/last.pt, 87.6MB\n",
            "Optimizer stripped from /content/drive/MyDrive/Minor_project/plant_dataset/results/leaves10/weights/best.pt, 87.6MB\n",
            "\n",
            "Validating /content/drive/MyDrive/Minor_project/plant_dataset/results/leaves10/weights/best.pt...\n",
            "Ultralytics YOLOv8.1.6 🚀 Python-3.10.12 torch-2.1.0+cu121 CPU (Intel Xeon 2.20GHz)\n",
            "Model summary (fused): 268 layers, 43629738 parameters, 0 gradients, 164.9 GFLOPs\n",
            "                 Class     Images  Instances      Box(P          R      mAP50  mAP50-95): 100% 8/8 [00:54<00:00,  6.86s/it]\n",
            "                   all        465       5772      0.251      0.117     0.0741     0.0446\n",
            "                     -        465        180      0.202      0.244      0.167      0.105\n",
            "- Auto-orientation of pixel data -with EXIF-orientation stripping-        465        484      0.146      0.118     0.0516     0.0217\n",
            "- Resize to 640x640 -Stretch-        465        165      0.279     0.0869     0.0876     0.0529\n",
            "                    10        465        210      0.146      0.371      0.127      0.072\n",
            "                    11        465        116     0.0523     0.0431     0.0143    0.00704\n",
            "                    12        465        198     0.0986     0.0101     0.0265     0.0151\n",
            "                    13        465        220      0.206      0.109     0.0621       0.03\n",
            "                    14        465        219      0.361    0.00795     0.0245     0.0112\n",
            "                    15        465        162      0.186     0.0247     0.0366     0.0223\n",
            "                    16        465        133     0.0982       0.15     0.0634     0.0299\n",
            "                    17        465        102          0          0    0.00462     0.0021\n",
            "                    18        465        463          1          0    0.00622    0.00206\n",
            "                    19        465        195      0.117     0.0872     0.0241     0.0149\n",
            "                    20        465          2          0          0          0          0\n",
            "                    21        465        157      0.166     0.0318     0.0351     0.0172\n",
            "                    22        465        117          1     0.0163     0.0703      0.045\n",
            "                    23        465        224     0.0198    0.00893     0.0101    0.00378\n",
            "                    24        465        197          1          0     0.0127    0.00754\n",
            "                    25        465        530     0.0693     0.0453     0.0206     0.0108\n",
            "                    26        465        164          1          0      0.011    0.00403\n",
            "                    27        465         40      0.133       0.45      0.216      0.161\n",
            "                    28        465        266      0.211      0.297      0.187      0.093\n",
            "                    29        465         94      0.322      0.734      0.562      0.401\n",
            "                     9        465        212      0.119      0.396      0.226      0.124\n",
            "It includes 2326 images.        465          7          0          0          0          0\n",
            "Mosaic-test1 are annotated in YOLO v5 PyTorch format.        465        243      0.194     0.0412     0.0342      0.022\n",
            "No image augmentation techniques were applied.        465         15          0          0          0          0\n",
            "The following pre-processing was applied to each image-        465        185     0.0466     0.0757     0.0202    0.00829\n",
            "This dataset was exported via roboflow.ai on April 21- 2022 at 6-43 AM GMT        465        346      0.258      0.142        0.1     0.0411\n",
            "mosaic-test1 - v1 mosaic        465        126      0.111     0.0159     0.0226     0.0127\n",
            "Speed: 0.1ms preprocess, 84.7ms inference, 0.0ms loss, 2.3ms postprocess per image\n",
            "Results saved to \u001b[1m/content/drive/MyDrive/Minor_project/plant_dataset/results/leaves10\u001b[0m\n",
            "💡 Learn more at https://docs.ultralytics.com/modes/train\n"
          ]
        }
      ]
    },
    {
      "cell_type": "code",
      "source": [
        "!yolo task=detect mode=predict model=/content/drive/MyDrive/Minor_project/plant_dataset/results/leaves10/weights/best.pt conf=0.35 source=/content/drive/MyDrive/Minor_project/plant_dataset/test/images"
      ],
      "metadata": {
        "colab": {
          "base_uri": "https://localhost:8080/"
        },
        "id": "20JC4qp6Wc22",
        "outputId": "c4156c9e-f7fb-45e6-c73e-29c4172d1887"
      },
      "execution_count": null,
      "outputs": [
        {
          "output_type": "stream",
          "name": "stdout",
          "text": [
            "Ultralytics YOLOv8.1.6 🚀 Python-3.10.12 torch-2.1.0+cu121 CPU (Intel Xeon 2.20GHz)\n",
            "Model summary (fused): 268 layers, 43629738 parameters, 0 gradients, 164.9 GFLOPs\n",
            "\n",
            "image 1/253 /content/drive/MyDrive/Minor_project/plant_dataset/test/images/01955_jpg.rf.86674d50ac51713a8df962116db5a335.jpg: 64x64 1 9, 112.6ms\n",
            "image 2/253 /content/drive/MyDrive/Minor_project/plant_dataset/test/images/01956_jpg.rf.3e78a102ffcb915cd1af360e55ef3947.jpg: 64x64 (no detections), 162.1ms\n",
            "image 3/253 /content/drive/MyDrive/Minor_project/plant_dataset/test/images/01962_jpg.rf.fd22c3f3bab4b0bebe9466a7daae7b24.jpg: 64x64 1 29, 99.4ms\n",
            "image 4/253 /content/drive/MyDrive/Minor_project/plant_dataset/test/images/01963_jpg.rf.dcb365832beebea77658b01227459c88.jpg: 64x64 1 13, 107.6ms\n",
            "image 5/253 /content/drive/MyDrive/Minor_project/plant_dataset/test/images/01965_jpg.rf.2a047377c6ed5bfd867a79621a71a01f.jpg: 64x64 4 -s, 1 25, 98.6ms\n",
            "image 6/253 /content/drive/MyDrive/Minor_project/plant_dataset/test/images/01967_jpg.rf.353bb21b385c7e517775b927d6d9289f.jpg: 64x64 1 25, 119.3ms\n",
            "image 7/253 /content/drive/MyDrive/Minor_project/plant_dataset/test/images/01972_jpg.rf.7bf48a1ae017e6a3f1d240c452f72b9c.jpg: 64x64 2 -s, 1 10, 97.3ms\n",
            "image 8/253 /content/drive/MyDrive/Minor_project/plant_dataset/test/images/01975_jpg.rf.18fc96017f061fa7110cf69eff668fbb.jpg: 64x64 (no detections), 106.1ms\n",
            "image 9/253 /content/drive/MyDrive/Minor_project/plant_dataset/test/images/01997_jpg.rf.f4d993a889b408ffc269a8155ec2c59b.jpg: 64x64 4 10s, 81.9ms\n",
            "image 10/253 /content/drive/MyDrive/Minor_project/plant_dataset/test/images/02019_jpg.rf.248877a4eaa571cdf0503ffcf138b926.jpg: 64x64 1 -, 4 25s, 81.4ms\n",
            "image 11/253 /content/drive/MyDrive/Minor_project/plant_dataset/test/images/02031_jpg.rf.6186caeb8716909543ece42992e4db62.jpg: 64x64 2 -s, 79.0ms\n",
            "image 12/253 /content/drive/MyDrive/Minor_project/plant_dataset/test/images/02038_jpg.rf.da34d555de67f8e43627b9cc913dd4fb.jpg: 64x64 1 10, 73.5ms\n",
            "image 13/253 /content/drive/MyDrive/Minor_project/plant_dataset/test/images/02042_jpg.rf.6ffea19359ec436066e76a566c540b93.jpg: 64x64 1 -, 80.0ms\n",
            "image 14/253 /content/drive/MyDrive/Minor_project/plant_dataset/test/images/02043_jpg.rf.4dc5ebcf996ef73169f38080f47fc616.jpg: 64x64 (no detections), 80.2ms\n",
            "image 15/253 /content/drive/MyDrive/Minor_project/plant_dataset/test/images/02045_jpg.rf.558b918a1274b3ff30091338cb103f9a.jpg: 64x64 (no detections), 87.8ms\n",
            "image 16/253 /content/drive/MyDrive/Minor_project/plant_dataset/test/images/02050_jpg.rf.9f88ff073ec6be621b998d01c80eeade.jpg: 64x64 (no detections), 73.9ms\n",
            "image 17/253 /content/drive/MyDrive/Minor_project/plant_dataset/test/images/02068_jpg.rf.1845a93bcb8f82ff01e661427684bbb7 (1).jpg: 64x64 1 10, 78.0ms\n",
            "image 18/253 /content/drive/MyDrive/Minor_project/plant_dataset/test/images/02068_jpg.rf.1845a93bcb8f82ff01e661427684bbb7.jpg: 64x64 1 10, 72.8ms\n",
            "image 19/253 /content/drive/MyDrive/Minor_project/plant_dataset/test/images/02077_jpg.rf.42098e7dd5815dcc9d2f05c45a0cabac.jpg: 64x64 1 -, 75.1ms\n",
            "image 20/253 /content/drive/MyDrive/Minor_project/plant_dataset/test/images/02083_jpg.rf.55df1c5752f244795b0137d1c9c1b67d.jpg: 64x64 1 19, 79.1ms\n",
            "image 21/253 /content/drive/MyDrive/Minor_project/plant_dataset/test/images/02090_jpg.rf.fd0d87e1a282d6e0d291ab7749013ba5.jpg: 64x64 (no detections), 73.3ms\n",
            "image 22/253 /content/drive/MyDrive/Minor_project/plant_dataset/test/images/02091_jpg.rf.e593c95b91ec4141106b27635cfe076d.jpg: 64x64 1 13, 74.2ms\n",
            "image 23/253 /content/drive/MyDrive/Minor_project/plant_dataset/test/images/02135_jpg.rf.d0f82f0b32495072bdd2e1c466dc7398.jpg: 64x64 1 12, 1 19, 76.2ms\n",
            "image 24/253 /content/drive/MyDrive/Minor_project/plant_dataset/test/images/02139_jpg.rf.3da042f6c61be8b3e346b2ff02f895ed.jpg: 64x64 (no detections), 80.5ms\n",
            "image 25/253 /content/drive/MyDrive/Minor_project/plant_dataset/test/images/02145_jpg.rf.8284cb6cb60366c45fb2e6b87d84a2d5.jpg: 64x64 1 19, 76.8ms\n",
            "image 26/253 /content/drive/MyDrive/Minor_project/plant_dataset/test/images/02161_jpg.rf.1daf7e3aecd3388d3a01b5813739129a.jpg: 64x64 (no detections), 82.2ms\n",
            "image 27/253 /content/drive/MyDrive/Minor_project/plant_dataset/test/images/02169_jpg.rf.96a38c25c8c1d593ceedf3abe6f70d41.jpg: 64x64 (no detections), 71.4ms\n",
            "image 28/253 /content/drive/MyDrive/Minor_project/plant_dataset/test/images/02173_jpg.rf.503968e4a35dd2313ca3f01925884326.jpg: 64x64 (no detections), 74.0ms\n",
            "image 29/253 /content/drive/MyDrive/Minor_project/plant_dataset/test/images/02174_jpg.rf.6d4461b92811119a1edef5b98c521158.jpg: 64x64 (no detections), 74.3ms\n",
            "image 30/253 /content/drive/MyDrive/Minor_project/plant_dataset/test/images/02183_jpg.rf.81236f6181e26068aa49de2aa7d9b571.jpg: 64x64 (no detections), 78.0ms\n",
            "image 31/253 /content/drive/MyDrive/Minor_project/plant_dataset/test/images/02187_jpg.rf.a052ec654ff5009ec1c04aafa7c77084.jpg: 64x64 1 -, 1 This dataset was exported via roboflow.ai on April 21- 2022 at 6-43 AM GMT, 85.8ms\n",
            "image 32/253 /content/drive/MyDrive/Minor_project/plant_dataset/test/images/02209_jpg.rf.58d83d91c16f18e2915dccfa89c20ae6.jpg: 64x64 (no detections), 77.6ms\n",
            "image 33/253 /content/drive/MyDrive/Minor_project/plant_dataset/test/images/02219_jpg.rf.b96697a4de320af947fa27091b0773d5.jpg: 64x64 (no detections), 77.6ms\n",
            "image 34/253 /content/drive/MyDrive/Minor_project/plant_dataset/test/images/02220_jpg.rf.2ec7f570a0e612aa80ce66d129220df6.jpg: 64x64 (no detections), 83.4ms\n",
            "image 35/253 /content/drive/MyDrive/Minor_project/plant_dataset/test/images/02225_jpg.rf.f3bfd4a260b3931ad4af33cce1aa1373.jpg: 64x64 (no detections), 85.5ms\n",
            "image 36/253 /content/drive/MyDrive/Minor_project/plant_dataset/test/images/02251_jpg.rf.881281f455bd0f29446918c16ab061ee.jpg: 64x64 (no detections), 83.9ms\n",
            "image 37/253 /content/drive/MyDrive/Minor_project/plant_dataset/test/images/02260_jpg.rf.c74e45e26cdfd4482a0fe299c2ca5aa5.jpg: 64x64 (no detections), 74.4ms\n",
            "image 38/253 /content/drive/MyDrive/Minor_project/plant_dataset/test/images/02276_jpg.rf.3952e6bf7de147a8ee002d90528f74e2.jpg: 64x64 (no detections), 80.5ms\n",
            "image 39/253 /content/drive/MyDrive/Minor_project/plant_dataset/test/images/02285_jpg.rf.d264ca8324a34d0e3c8505ce81c976a5.jpg: 64x64 (no detections), 76.5ms\n",
            "image 40/253 /content/drive/MyDrive/Minor_project/plant_dataset/test/images/02291_jpg.rf.4a16336f37118cc25b28f0162fa44b09.jpg: 64x64 1 19, 76.0ms\n",
            "image 41/253 /content/drive/MyDrive/Minor_project/plant_dataset/test/images/02295_jpg.rf.177ccce9732d332ac95b9a403cecbfd6.jpg: 64x64 (no detections), 80.3ms\n",
            "image 42/253 /content/drive/MyDrive/Minor_project/plant_dataset/test/images/02299_jpg.rf.9616779ba82d87de1fa071e9439dbb3b.jpg: 64x64 (no detections), 76.1ms\n",
            "image 43/253 /content/drive/MyDrive/Minor_project/plant_dataset/test/images/02306_jpg.rf.d1cf81e0182d3bbb2424ce932ed94123.jpg: 64x64 1 19, 77.2ms\n",
            "image 44/253 /content/drive/MyDrive/Minor_project/plant_dataset/test/images/02324_jpg.rf.c9acbe009aa84185fc86961e99075789.jpg: 64x64 (no detections), 74.4ms\n",
            "image 45/253 /content/drive/MyDrive/Minor_project/plant_dataset/test/images/1029_jpg.rf.511fbeb1745af7aa47e7b05048e31c53.jpg: 64x64 1 29, 87.2ms\n",
            "image 46/253 /content/drive/MyDrive/Minor_project/plant_dataset/test/images/1034_jpg.rf.8441ee1618ec845aaf2d4f9c12fd2216.jpg: 64x64 (no detections), 84.5ms\n",
            "image 47/253 /content/drive/MyDrive/Minor_project/plant_dataset/test/images/1045_jpg.rf.3d6568facc1f65df23027c72c4c5b9e5.jpg: 64x64 1 29, 85.1ms\n",
            "image 48/253 /content/drive/MyDrive/Minor_project/plant_dataset/test/images/1056_jpg.rf.3e882b57b8b5d58e82d94e339f4dae99.jpg: 64x64 1 10, 1 This dataset was exported via roboflow.ai on April 21- 2022 at 6-43 AM GMT, 75.7ms\n",
            "image 49/253 /content/drive/MyDrive/Minor_project/plant_dataset/test/images/1059_jpg.rf.6669723685e46e8b22d85d845cc1a273.jpg: 64x64 (no detections), 83.7ms\n",
            "image 50/253 /content/drive/MyDrive/Minor_project/plant_dataset/test/images/1071_jpg.rf.9d79cb5e35301f031338526e52273c8b.jpg: 64x64 1 29, 78.0ms\n",
            "image 51/253 /content/drive/MyDrive/Minor_project/plant_dataset/test/images/1072_jpg.rf.13e73ba0d03a50dcfcdfeeb99325ec29.jpg: 64x64 1 29, 74.6ms\n",
            "image 52/253 /content/drive/MyDrive/Minor_project/plant_dataset/test/images/1075_jpg.rf.e7a92e8779b08e1cc6a520490e753227.jpg: 64x64 2 27s, 78.3ms\n",
            "image 53/253 /content/drive/MyDrive/Minor_project/plant_dataset/test/images/1089_jpg.rf.d1c9167c2df11676e338d90c62138dbb.jpg: 64x64 1 28, 82.1ms\n",
            "image 54/253 /content/drive/MyDrive/Minor_project/plant_dataset/test/images/108_jpg.rf.d2f978191c8f6c0376c2d0725b9ec9c2.jpg: 64x64 2 27s, 89.0ms\n",
            "image 55/253 /content/drive/MyDrive/Minor_project/plant_dataset/test/images/1096_jpg.rf.c1ddf01999243cee9e2196877137dfa5.jpg: 64x64 1 9, 79.2ms\n",
            "image 56/253 /content/drive/MyDrive/Minor_project/plant_dataset/test/images/1099_jpg.rf.7b53697c0c64d5720a56a016d395c52f.jpg: 64x64 (no detections), 80.3ms\n",
            "image 57/253 /content/drive/MyDrive/Minor_project/plant_dataset/test/images/1103_jpg.rf.c5047e5828dad1fa1e054a9ae2797d24.jpg: 64x64 1 29, 1 9, 81.9ms\n",
            "image 58/253 /content/drive/MyDrive/Minor_project/plant_dataset/test/images/1105_jpg.rf.b6e3b6556b213b111298fed85e3f6483.jpg: 64x64 1 9, 85.2ms\n",
            "image 59/253 /content/drive/MyDrive/Minor_project/plant_dataset/test/images/1116_jpg.rf.1bb294873743ab8ca82a1fd751741f34.jpg: 64x64 (no detections), 77.7ms\n",
            "image 60/253 /content/drive/MyDrive/Minor_project/plant_dataset/test/images/1125_jpg.rf.16cf2bd210c7859252d16aa1f00274d3.jpg: 64x64 1 9, 133.3ms\n",
            "image 61/253 /content/drive/MyDrive/Minor_project/plant_dataset/test/images/1127_jpg.rf.c9e750c8cff26474a0aa83be917d156e.jpg: 64x64 1 27, 119.5ms\n",
            "image 62/253 /content/drive/MyDrive/Minor_project/plant_dataset/test/images/1130_jpg.rf.64d7017e0c668b065105e1547a94c786.jpg: 64x64 1 27, 129.0ms\n",
            "image 63/253 /content/drive/MyDrive/Minor_project/plant_dataset/test/images/1136_jpg.rf.fa61ed2d91adf3ae7349498b43658b88.jpg: 64x64 1 9, 108.1ms\n",
            "image 64/253 /content/drive/MyDrive/Minor_project/plant_dataset/test/images/1137_jpg.rf.71e78fa0d61d2774a4ced654e55c104e.jpg: 64x64 1 27, 1 29, 114.9ms\n",
            "image 65/253 /content/drive/MyDrive/Minor_project/plant_dataset/test/images/1140_jpg.rf.691d122fb7f83a8febbfd30ad67d3c3d.jpg: 64x64 1 28, 121.7ms\n",
            "image 66/253 /content/drive/MyDrive/Minor_project/plant_dataset/test/images/1164_jpg.rf.e678d1a55019e7c996a28fab48d67956.jpg: 64x64 1 10, 1 9, 115.4ms\n",
            "image 67/253 /content/drive/MyDrive/Minor_project/plant_dataset/test/images/1169_jpg.rf.7b784246dd6c5acd5d3e2bf182c64323.jpg: 64x64 1 9, 114.0ms\n",
            "image 68/253 /content/drive/MyDrive/Minor_project/plant_dataset/test/images/1174_jpg.rf.8b982489d46fa0de63c0044236ec67cf (1).jpg: 64x64 1 13, 1 28, 1 9, 106.6ms\n",
            "image 69/253 /content/drive/MyDrive/Minor_project/plant_dataset/test/images/1174_jpg.rf.8b982489d46fa0de63c0044236ec67cf.jpg: 64x64 1 13, 1 28, 1 9, 130.0ms\n",
            "image 70/253 /content/drive/MyDrive/Minor_project/plant_dataset/test/images/1175_jpg.rf.abb57b22aa778277408ec88c060ec820 (1).jpg: 64x64 1 27, 120.2ms\n",
            "image 71/253 /content/drive/MyDrive/Minor_project/plant_dataset/test/images/1175_jpg.rf.abb57b22aa778277408ec88c060ec820.jpg: 64x64 1 27, 112.5ms\n",
            "image 72/253 /content/drive/MyDrive/Minor_project/plant_dataset/test/images/1180_jpg.rf.965403a60e609d738e908265df5e904d (1).jpg: 64x64 1 27, 1 28, 121.0ms\n",
            "image 73/253 /content/drive/MyDrive/Minor_project/plant_dataset/test/images/1180_jpg.rf.965403a60e609d738e908265df5e904d.jpg: 64x64 1 27, 1 28, 147.1ms\n",
            "image 74/253 /content/drive/MyDrive/Minor_project/plant_dataset/test/images/1184_jpg.rf.9d61c415b7cdf6f0dc3292dc614658f4 (1).jpg: 64x64 1 28, 1 This dataset was exported via roboflow.ai on April 21- 2022 at 6-43 AM GMT, 132.3ms\n",
            "image 75/253 /content/drive/MyDrive/Minor_project/plant_dataset/test/images/1184_jpg.rf.9d61c415b7cdf6f0dc3292dc614658f4.jpg: 64x64 1 28, 1 This dataset was exported via roboflow.ai on April 21- 2022 at 6-43 AM GMT, 137.1ms\n",
            "image 76/253 /content/drive/MyDrive/Minor_project/plant_dataset/test/images/1192_jpg.rf.19d03e5d8e535bb2eb18b061e0650131 (1).jpg: 64x64 1 9, 115.0ms\n",
            "image 77/253 /content/drive/MyDrive/Minor_project/plant_dataset/test/images/1192_jpg.rf.19d03e5d8e535bb2eb18b061e0650131.jpg: 64x64 1 9, 145.8ms\n",
            "image 78/253 /content/drive/MyDrive/Minor_project/plant_dataset/test/images/1197_jpg.rf.2bb9da1b1e530b7a1bdc621344d8e883 (1).jpg: 64x64 (no detections), 131.9ms\n",
            "image 79/253 /content/drive/MyDrive/Minor_project/plant_dataset/test/images/1197_jpg.rf.2bb9da1b1e530b7a1bdc621344d8e883.jpg: 64x64 (no detections), 110.1ms\n",
            "image 80/253 /content/drive/MyDrive/Minor_project/plant_dataset/test/images/1222_jpg.rf.53a0f94a4a603c8c5363541311b7c81e (1).jpg: 64x64 1 29, 1 9, 142.7ms\n",
            "image 81/253 /content/drive/MyDrive/Minor_project/plant_dataset/test/images/1222_jpg.rf.53a0f94a4a603c8c5363541311b7c81e.jpg: 64x64 1 29, 1 9, 126.6ms\n",
            "image 82/253 /content/drive/MyDrive/Minor_project/plant_dataset/test/images/1226_jpg.rf.abdcf5bb58131692ca223af71bce30b6 (1).jpg: 64x64 (no detections), 116.7ms\n",
            "image 83/253 /content/drive/MyDrive/Minor_project/plant_dataset/test/images/1226_jpg.rf.abdcf5bb58131692ca223af71bce30b6.jpg: 64x64 (no detections), 162.4ms\n",
            "image 84/253 /content/drive/MyDrive/Minor_project/plant_dataset/test/images/1233_jpg.rf.f08bc059790fd385b9f267f273884cdb (1).jpg: 64x64 1 27, 154.0ms\n",
            "image 85/253 /content/drive/MyDrive/Minor_project/plant_dataset/test/images/1233_jpg.rf.f08bc059790fd385b9f267f273884cdb.jpg: 64x64 1 27, 144.7ms\n",
            "image 86/253 /content/drive/MyDrive/Minor_project/plant_dataset/test/images/1247_jpg.rf.c6c047f98d168d5ed4b0833a1fa981ea (1).jpg: 64x64 1 -, 1 28, 145.4ms\n",
            "image 87/253 /content/drive/MyDrive/Minor_project/plant_dataset/test/images/1247_jpg.rf.c6c047f98d168d5ed4b0833a1fa981ea.jpg: 64x64 1 -, 1 28, 148.4ms\n",
            "image 88/253 /content/drive/MyDrive/Minor_project/plant_dataset/test/images/1254_jpg.rf.14c90d8c8248f53e496429b7d8f84fdf.jpg: 64x64 (no detections), 138.7ms\n",
            "image 89/253 /content/drive/MyDrive/Minor_project/plant_dataset/test/images/126_jpg.rf.bea7482aeaf674cde03c9368d792de68.jpg: 64x64 1 25, 116.6ms\n",
            "image 90/253 /content/drive/MyDrive/Minor_project/plant_dataset/test/images/1270_jpg.rf.7424487eb4dfde1c54dab17d3fd8a4b5.jpg: 64x64 1 28, 124.1ms\n",
            "image 91/253 /content/drive/MyDrive/Minor_project/plant_dataset/test/images/1275_jpg.rf.10c0e6de32a8b42bc8b821fad74bd9ff.jpg: 64x64 (no detections), 115.8ms\n",
            "image 92/253 /content/drive/MyDrive/Minor_project/plant_dataset/test/images/1287_jpg.rf.9ca8e8be37b0f19dd51ced00ae25855d.jpg: 64x64 1 9, 110.0ms\n",
            "image 93/253 /content/drive/MyDrive/Minor_project/plant_dataset/test/images/1294_jpg.rf.9ddec66bd9fc7b87a3eff93856a47249.jpg: 64x64 1 10, 1 9, 116.7ms\n",
            "image 94/253 /content/drive/MyDrive/Minor_project/plant_dataset/test/images/1301_jpg.rf.d54a464a7bc37f8489294533d565ffa2.jpg: 64x64 (no detections), 115.6ms\n",
            "image 95/253 /content/drive/MyDrive/Minor_project/plant_dataset/test/images/1336_jpg.rf.56aa7c768a107a04caa3bc5e3544f927.jpg: 64x64 (no detections), 116.8ms\n",
            "image 96/253 /content/drive/MyDrive/Minor_project/plant_dataset/test/images/1344_jpg.rf.a8610fbae21687dabfcb950d7a29aff5.jpg: 64x64 1 9, 111.9ms\n",
            "image 97/253 /content/drive/MyDrive/Minor_project/plant_dataset/test/images/1353_jpg.rf.1039d3bbfe890088506ff6c8b0842aff.jpg: 64x64 1 9, 119.4ms\n",
            "image 98/253 /content/drive/MyDrive/Minor_project/plant_dataset/test/images/1359_jpg.rf.2a6876db6459f4cff9ef2e60e7d8717b.jpg: 64x64 (no detections), 109.5ms\n",
            "image 99/253 /content/drive/MyDrive/Minor_project/plant_dataset/test/images/1366_jpg.rf.dc9e19762204269e5695555f3febcc53.jpg: 64x64 1 27, 1 29, 118.8ms\n",
            "image 100/253 /content/drive/MyDrive/Minor_project/plant_dataset/test/images/1381_jpg.rf.dcfd47b1b55d62ea353f23e153f1fdf6.jpg: 64x64 1 29, 113.6ms\n",
            "image 101/253 /content/drive/MyDrive/Minor_project/plant_dataset/test/images/1384_jpg.rf.acb9728dd697256616420ecdddb74d68.jpg: 64x64 (no detections), 120.6ms\n",
            "image 102/253 /content/drive/MyDrive/Minor_project/plant_dataset/test/images/1387_jpg.rf.4c0ae08f26dd590635fa3f998f414353.jpg: 64x64 2 9s, 73.0ms\n",
            "image 103/253 /content/drive/MyDrive/Minor_project/plant_dataset/test/images/1391_jpg.rf.df198478294c85a0b52032627eae20a3.jpg: 64x64 (no detections), 74.2ms\n",
            "image 104/253 /content/drive/MyDrive/Minor_project/plant_dataset/test/images/1401_jpg.rf.7e8ff3ff335ae8ad21cb84a74afa6b4c.jpg: 64x64 1 28, 80.8ms\n",
            "image 105/253 /content/drive/MyDrive/Minor_project/plant_dataset/test/images/1420_jpg.rf.fc0b23c175b114c0d54a90f503e25c17.jpg: 64x64 1 19, 74.0ms\n",
            "image 106/253 /content/drive/MyDrive/Minor_project/plant_dataset/test/images/1426_jpg.rf.38510b84497bc814d42873469342941a.jpg: 64x64 (no detections), 70.4ms\n",
            "image 107/253 /content/drive/MyDrive/Minor_project/plant_dataset/test/images/1432_jpg.rf.9b2bfd3eb8cc297c85a4066f53376e20.jpg: 64x64 (no detections), 77.7ms\n",
            "image 108/253 /content/drive/MyDrive/Minor_project/plant_dataset/test/images/1439_jpg.rf.6e91c86e9aba2b1569e1f047069ff05e.jpg: 64x64 (no detections), 73.9ms\n",
            "image 109/253 /content/drive/MyDrive/Minor_project/plant_dataset/test/images/1442_jpg.rf.e2d12251df6d3ab302f9ff36edd4ed3c.jpg: 64x64 (no detections), 72.9ms\n",
            "image 110/253 /content/drive/MyDrive/Minor_project/plant_dataset/test/images/144_jpg.rf.09a0251d74870cae31fa76dfa965e784.jpg: 64x64 (no detections), 75.4ms\n",
            "image 111/253 /content/drive/MyDrive/Minor_project/plant_dataset/test/images/1455_jpg.rf.4a8c133b27ace68cab11ca2010980025.jpg: 64x64 (no detections), 85.7ms\n",
            "image 112/253 /content/drive/MyDrive/Minor_project/plant_dataset/test/images/1456_jpg.rf.aa1fb2318b078aa7f345cb957c14a089.jpg: 64x64 (no detections), 72.2ms\n",
            "image 113/253 /content/drive/MyDrive/Minor_project/plant_dataset/test/images/1473_jpg.rf.64bf0ccf29247eecd13612decb4c9ebd.jpg: 64x64 (no detections), 79.3ms\n",
            "image 114/253 /content/drive/MyDrive/Minor_project/plant_dataset/test/images/1483_jpg.rf.a61431f129610b818333c9273c6acb68.jpg: 64x64 1 -, 1 10, 1 25, 1 28, 1 9, 77.8ms\n",
            "image 115/253 /content/drive/MyDrive/Minor_project/plant_dataset/test/images/1484_jpg.rf.b9280827f0178b8958e4d0e6cedb4a19.jpg: 64x64 (no detections), 80.1ms\n",
            "image 116/253 /content/drive/MyDrive/Minor_project/plant_dataset/test/images/1512_jpg.rf.75b58dbe4e6f0ca0e80d043e31808bd3.jpg: 64x64 1 27, 76.7ms\n",
            "image 117/253 /content/drive/MyDrive/Minor_project/plant_dataset/test/images/1533_jpg.rf.da2506c377b1dcb06f0630c1c5cbe39e.jpg: 64x64 1 28, 74.6ms\n",
            "image 118/253 /content/drive/MyDrive/Minor_project/plant_dataset/test/images/1538_jpg.rf.2c90167cf5d6e3952a54fd6dbb9a916f.jpg: 64x64 1 -, 4 9s, 80.2ms\n",
            "image 119/253 /content/drive/MyDrive/Minor_project/plant_dataset/test/images/153_jpg.rf.e7534ddac4c277c05ab51c9744f45c27.jpg: 64x64 (no detections), 74.5ms\n",
            "image 120/253 /content/drive/MyDrive/Minor_project/plant_dataset/test/images/1546_jpg.rf.f9a5b5c82bd87ff007c51065f3c3712e.jpg: 64x64 (no detections), 77.6ms\n",
            "image 121/253 /content/drive/MyDrive/Minor_project/plant_dataset/test/images/1551_jpg.rf.d9a29085721123b3c7990902d89be2bc.jpg: 64x64 1 9, 100.1ms\n",
            "image 122/253 /content/drive/MyDrive/Minor_project/plant_dataset/test/images/1563_jpg.rf.80d434b96fd749bb2738f2a9d8cda9c7.jpg: 64x64 3 9s, 83.6ms\n",
            "image 123/253 /content/drive/MyDrive/Minor_project/plant_dataset/test/images/1574_jpg.rf.08601904cc35658dc0d8f69774d5f608.jpg: 64x64 2 25s, 81.1ms\n",
            "image 124/253 /content/drive/MyDrive/Minor_project/plant_dataset/test/images/1591_jpg.rf.f0aca20287050c61557bb901e6f3ed74.jpg: 64x64 1 27, 77.4ms\n",
            "image 125/253 /content/drive/MyDrive/Minor_project/plant_dataset/test/images/1592_jpg.rf.9c07f2c2b1ed1950681b473290dd242e.jpg: 64x64 1 29, 74.3ms\n",
            "image 126/253 /content/drive/MyDrive/Minor_project/plant_dataset/test/images/1603_jpg.rf.21ef00a51bc050289903a09640c18343.jpg: 64x64 (no detections), 91.1ms\n",
            "image 127/253 /content/drive/MyDrive/Minor_project/plant_dataset/test/images/1608_jpg.rf.1a04543ddf0c0bdc1a2a222ce7f3a8df.jpg: 64x64 1 -, 74.9ms\n",
            "image 128/253 /content/drive/MyDrive/Minor_project/plant_dataset/test/images/1622_jpg.rf.e992206a12c88e8a2ad2c89e4ea71f33.jpg: 64x64 3 10s, 73.0ms\n",
            "image 129/253 /content/drive/MyDrive/Minor_project/plant_dataset/test/images/1635_jpg.rf.6381d60b6b6a91882ca6aefd0efab476.jpg: 64x64 1 28, 78.4ms\n",
            "image 130/253 /content/drive/MyDrive/Minor_project/plant_dataset/test/images/1639_jpg.rf.c461da36c9dff3703c7fa137617ae4dc.jpg: 64x64 1 25, 89.4ms\n",
            "image 131/253 /content/drive/MyDrive/Minor_project/plant_dataset/test/images/1661_jpg.rf.f6f76f05a028650370c6714534472530.jpg: 64x64 (no detections), 74.5ms\n",
            "image 132/253 /content/drive/MyDrive/Minor_project/plant_dataset/test/images/1680_jpg.rf.5983266903f4ed5f87cafaa1c02a0347.jpg: 64x64 1 28, 77.3ms\n",
            "image 133/253 /content/drive/MyDrive/Minor_project/plant_dataset/test/images/1687_jpg.rf.40d5823828ac5eaefd62c8fa93bd3c2a.jpg: 64x64 1 -, 1 25, 77.3ms\n",
            "image 134/253 /content/drive/MyDrive/Minor_project/plant_dataset/test/images/1704_jpg.rf.01b87f46aa8f34d03822fd452656d377.jpg: 64x64 (no detections), 75.7ms\n",
            "image 135/253 /content/drive/MyDrive/Minor_project/plant_dataset/test/images/1706_jpg.rf.530f1229a8346e8827bbb11095b07e96.jpg: 64x64 2 -s, 77.3ms\n",
            "image 136/253 /content/drive/MyDrive/Minor_project/plant_dataset/test/images/1716_jpg.rf.7b00c0e67b8af8fa6e0c21808a5c9392.jpg: 64x64 1 -, 76.4ms\n",
            "image 137/253 /content/drive/MyDrive/Minor_project/plant_dataset/test/images/1718_jpg.rf.773e76c966c933313a4542ea4d4ee2e5.jpg: 64x64 1 29, 1 9, 70.5ms\n",
            "image 138/253 /content/drive/MyDrive/Minor_project/plant_dataset/test/images/1722_jpg.rf.45b0cc22d4292c14eab086b8800313ea.jpg: 64x64 1 16, 1 28, 78.3ms\n",
            "image 139/253 /content/drive/MyDrive/Minor_project/plant_dataset/test/images/172_jpg.rf.7abff833c59c8c72eb29bd035591752a.jpg: 64x64 (no detections), 73.0ms\n",
            "image 140/253 /content/drive/MyDrive/Minor_project/plant_dataset/test/images/1741_jpg.rf.9f11ad2baa2859a0a74d2c9a338ab346.jpg: 64x64 1 13, 84.3ms\n",
            "image 141/253 /content/drive/MyDrive/Minor_project/plant_dataset/test/images/1744_jpg.rf.8166f2eee84e24c8110fc4b3d9eb13f7.jpg: 64x64 (no detections), 76.8ms\n",
            "image 142/253 /content/drive/MyDrive/Minor_project/plant_dataset/test/images/176_jpg.rf.11f37d9e4293851bbdd0759c4bc73b06.jpg: 64x64 1 27, 1 9, 72.9ms\n",
            "image 143/253 /content/drive/MyDrive/Minor_project/plant_dataset/test/images/1775_jpg.rf.4ebae2d96d33a6998fbcb01584f93eec.jpg: 64x64 (no detections), 75.1ms\n",
            "image 144/253 /content/drive/MyDrive/Minor_project/plant_dataset/test/images/1778_jpg.rf.c1efa7f94bbdccd87e339c5744718d99.jpg: 64x64 1 29, 79.0ms\n",
            "image 145/253 /content/drive/MyDrive/Minor_project/plant_dataset/test/images/1782_jpg.rf.da2347ea84e45d14e9adeb655d6aae55.jpg: 64x64 1 27, 80.5ms\n",
            "image 146/253 /content/drive/MyDrive/Minor_project/plant_dataset/test/images/1791_jpg.rf.8dbb7ac96ea94cb1e9c606ec7758ef07.jpg: 64x64 (no detections), 73.2ms\n",
            "image 147/253 /content/drive/MyDrive/Minor_project/plant_dataset/test/images/1801_jpg.rf.a84aea9e58d734ca92fbb5e0d917bbdb.jpg: 64x64 1 -, 2 10s, 1 9, 77.7ms\n",
            "image 148/253 /content/drive/MyDrive/Minor_project/plant_dataset/test/images/1814_jpg.rf.8174437100a04353aa17368a93986645 (1).jpg: 64x64 (no detections), 75.6ms\n",
            "image 149/253 /content/drive/MyDrive/Minor_project/plant_dataset/test/images/1814_jpg.rf.8174437100a04353aa17368a93986645.jpg: 64x64 (no detections), 72.6ms\n",
            "image 150/253 /content/drive/MyDrive/Minor_project/plant_dataset/test/images/1824_jpg.rf.8b6d9bd2b0f8638fd388fe129d821e3a (1).jpg: 64x64 1 27, 88.2ms\n",
            "image 151/253 /content/drive/MyDrive/Minor_project/plant_dataset/test/images/1824_jpg.rf.8b6d9bd2b0f8638fd388fe129d821e3a.jpg: 64x64 1 27, 71.0ms\n",
            "image 152/253 /content/drive/MyDrive/Minor_project/plant_dataset/test/images/1827_jpg.rf.87bc7d6a46e84c03e9c0a82ea30b7c6e (1).jpg: 64x64 1 -, 72.6ms\n",
            "image 153/253 /content/drive/MyDrive/Minor_project/plant_dataset/test/images/1827_jpg.rf.87bc7d6a46e84c03e9c0a82ea30b7c6e.jpg: 64x64 1 -, 75.2ms\n",
            "image 154/253 /content/drive/MyDrive/Minor_project/plant_dataset/test/images/1828_jpg.rf.9ebce21ac1f421ebcc68bb01b016f458 (1).jpg: 64x64 1 28, 72.0ms\n",
            "image 155/253 /content/drive/MyDrive/Minor_project/plant_dataset/test/images/1828_jpg.rf.9ebce21ac1f421ebcc68bb01b016f458.jpg: 64x64 1 28, 77.8ms\n",
            "image 156/253 /content/drive/MyDrive/Minor_project/plant_dataset/test/images/1852_jpg.rf.9b21faad604050ff0de6c82fb334f7a3 (1).jpg: 64x64 1 29, 77.1ms\n",
            "image 157/253 /content/drive/MyDrive/Minor_project/plant_dataset/test/images/1852_jpg.rf.9b21faad604050ff0de6c82fb334f7a3.jpg: 64x64 1 29, 76.9ms\n",
            "image 158/253 /content/drive/MyDrive/Minor_project/plant_dataset/test/images/186_jpg.rf.5e7dbf2dfb90cccd3cb0597c3c7faf83 (1).jpg: 64x64 (no detections), 75.1ms\n",
            "image 159/253 /content/drive/MyDrive/Minor_project/plant_dataset/test/images/186_jpg.rf.5e7dbf2dfb90cccd3cb0597c3c7faf83.jpg: 64x64 (no detections), 84.2ms\n",
            "image 160/253 /content/drive/MyDrive/Minor_project/plant_dataset/test/images/1887_jpg.rf.3d6eef283ff5fbd887db4eda2fc3ec23 (1).jpg: 64x64 (no detections), 89.2ms\n",
            "image 161/253 /content/drive/MyDrive/Minor_project/plant_dataset/test/images/1887_jpg.rf.3d6eef283ff5fbd887db4eda2fc3ec23.jpg: 64x64 (no detections), 70.4ms\n",
            "image 162/253 /content/drive/MyDrive/Minor_project/plant_dataset/test/images/1895_jpg.rf.578aebbe83962a5c597a39e101a12d91 (1).jpg: 64x64 (no detections), 74.9ms\n",
            "image 163/253 /content/drive/MyDrive/Minor_project/plant_dataset/test/images/1895_jpg.rf.578aebbe83962a5c597a39e101a12d91.jpg: 64x64 (no detections), 72.6ms\n",
            "image 164/253 /content/drive/MyDrive/Minor_project/plant_dataset/test/images/18_jpg.rf.9fe7e6728ab261560e408c6853d5220b (1).jpg: 64x64 (no detections), 76.4ms\n",
            "image 165/253 /content/drive/MyDrive/Minor_project/plant_dataset/test/images/18_jpg.rf.9fe7e6728ab261560e408c6853d5220b.jpg: 64x64 (no detections), 72.3ms\n",
            "image 166/253 /content/drive/MyDrive/Minor_project/plant_dataset/test/images/1902_jpg.rf.e925df9126be66af87af6f3baaef5aea (1).jpg: 64x64 (no detections), 78.9ms\n",
            "image 167/253 /content/drive/MyDrive/Minor_project/plant_dataset/test/images/1902_jpg.rf.e925df9126be66af87af6f3baaef5aea.jpg: 64x64 (no detections), 83.2ms\n",
            "image 168/253 /content/drive/MyDrive/Minor_project/plant_dataset/test/images/1909_jpg.rf.abfbeda90902ab2520889edeacd2266b.jpg: 64x64 1 27, 1 28, 72.3ms\n",
            "image 169/253 /content/drive/MyDrive/Minor_project/plant_dataset/test/images/1911_jpg.rf.543f7317095e3268b55d8794812ffabc.jpg: 64x64 1 9, 75.6ms\n",
            "image 170/253 /content/drive/MyDrive/Minor_project/plant_dataset/test/images/1917_jpg.rf.15d6cff9155b98cf86542fd0365740fa.jpg: 64x64 2 29s, 77.2ms\n",
            "image 171/253 /content/drive/MyDrive/Minor_project/plant_dataset/test/images/1921_jpg.rf.6d63e402388fabb1809e06b55f73b19a.jpg: 64x64 (no detections), 79.1ms\n",
            "image 172/253 /content/drive/MyDrive/Minor_project/plant_dataset/test/images/1927_jpg.rf.71ae65edb63791392cc0f890a23019e6.jpg: 64x64 (no detections), 83.4ms\n",
            "image 173/253 /content/drive/MyDrive/Minor_project/plant_dataset/test/images/202_jpg.rf.804a3a223d3da90ec67432b865d89477.jpg: 64x64 (no detections), 77.6ms\n",
            "image 174/253 /content/drive/MyDrive/Minor_project/plant_dataset/test/images/206_jpg.rf.ed37eaa7f75a5fe794b4cd6e40e6da0f.jpg: 64x64 (no detections), 81.2ms\n",
            "image 175/253 /content/drive/MyDrive/Minor_project/plant_dataset/test/images/222_jpg.rf.3b8494a1b6ca7be631ee6b05f69e7c46.jpg: 64x64 (no detections), 79.3ms\n",
            "image 176/253 /content/drive/MyDrive/Minor_project/plant_dataset/test/images/229_jpg.rf.ac3e3651b03ff995ee24acd8c14846c2.jpg: 64x64 (no detections), 76.5ms\n",
            "image 177/253 /content/drive/MyDrive/Minor_project/plant_dataset/test/images/256_jpg.rf.3d711b7a9605aad2973a16025b6bbeeb.jpg: 64x64 1 -, 77.6ms\n",
            "image 178/253 /content/drive/MyDrive/Minor_project/plant_dataset/test/images/257_jpg.rf.b6b925c2abe1fc48ca9a814bff1bb4b6.jpg: 64x64 (no detections), 71.2ms\n",
            "image 179/253 /content/drive/MyDrive/Minor_project/plant_dataset/test/images/282_jpg.rf.9740c18bc08aaaa82b5c24c96a9b9732.jpg: 64x64 (no detections), 93.0ms\n",
            "image 180/253 /content/drive/MyDrive/Minor_project/plant_dataset/test/images/2_jpg.rf.8e2c04bacf175d0d53fb529eb02c56df.jpg: 64x64 1 29, 74.3ms\n",
            "image 181/253 /content/drive/MyDrive/Minor_project/plant_dataset/test/images/307_jpg.rf.511dac3eeb55f32b5c22eada2548f9a3.jpg: 64x64 1 29, 1 9, 83.3ms\n",
            "image 182/253 /content/drive/MyDrive/Minor_project/plant_dataset/test/images/319_jpg.rf.253e6a1c13ecd1643ad2fc0470f64427.jpg: 64x64 (no detections), 90.9ms\n",
            "image 183/253 /content/drive/MyDrive/Minor_project/plant_dataset/test/images/321_jpg.rf.3e762432869db808ee397447419c53e9.jpg: 64x64 1 29, 99.1ms\n",
            "image 184/253 /content/drive/MyDrive/Minor_project/plant_dataset/test/images/326_jpg.rf.0867eb62e8f6eaeb5d2e1cc61a913df8.jpg: 64x64 4 9s, 78.4ms\n",
            "image 185/253 /content/drive/MyDrive/Minor_project/plant_dataset/test/images/346_jpg.rf.212e42038d21f1ea3e85835e8640304b.jpg: 64x64 1 9, 76.7ms\n",
            "image 186/253 /content/drive/MyDrive/Minor_project/plant_dataset/test/images/348_jpg.rf.62987b9b704efe0ede39ae53c100742f.jpg: 64x64 1 29, 72.8ms\n",
            "image 187/253 /content/drive/MyDrive/Minor_project/plant_dataset/test/images/35_jpg.rf.ad06c4fc66e6ab8ee80b539f9c48ba23.jpg: 64x64 (no detections), 78.9ms\n",
            "image 188/253 /content/drive/MyDrive/Minor_project/plant_dataset/test/images/363_jpg.rf.2f0345480c701f97910627f1f7906d93.jpg: 64x64 1 9, 86.3ms\n",
            "image 189/253 /content/drive/MyDrive/Minor_project/plant_dataset/test/images/370_jpg.rf.92c340dca4c3ce47e4588edc380984b2.jpg: 64x64 (no detections), 75.0ms\n",
            "image 190/253 /content/drive/MyDrive/Minor_project/plant_dataset/test/images/372_jpg.rf.7d92db701342ab5cc95b312aa14159a1.jpg: 64x64 1 28, 77.2ms\n",
            "image 191/253 /content/drive/MyDrive/Minor_project/plant_dataset/test/images/388_jpg.rf.fae2980334cebbf3745066d69ac670a7.jpg: 64x64 2 25s, 83.3ms\n",
            "image 192/253 /content/drive/MyDrive/Minor_project/plant_dataset/test/images/400_jpg.rf.a15d71374db35e69bc5b7ea58d09d51a.jpg: 64x64 1 9, 75.5ms\n",
            "image 193/253 /content/drive/MyDrive/Minor_project/plant_dataset/test/images/406_jpg.rf.779e2c11732ff308c66b78469d35d79a.jpg: 64x64 (no detections), 71.1ms\n",
            "image 194/253 /content/drive/MyDrive/Minor_project/plant_dataset/test/images/411_jpg.rf.a196ab2c18802e2863c0f28ea673394b.jpg: 64x64 (no detections), 79.0ms\n",
            "image 195/253 /content/drive/MyDrive/Minor_project/plant_dataset/test/images/46_jpg.rf.ca3524a550bdbcdb2df0ff07d2da6e23.jpg: 64x64 1 13, 1 27, 1 28, 2 9s, 108.9ms\n",
            "image 196/253 /content/drive/MyDrive/Minor_project/plant_dataset/test/images/477_jpg.rf.56a4d90bc7b24f1567f134718a95afad.jpg: 64x64 (no detections), 116.7ms\n",
            "image 197/253 /content/drive/MyDrive/Minor_project/plant_dataset/test/images/486_jpg.rf.3b7ab0e33681f48b3e698f1ffed0e5aa.jpg: 64x64 (no detections), 126.4ms\n",
            "image 198/253 /content/drive/MyDrive/Minor_project/plant_dataset/test/images/494_jpg.rf.080d80250747a2ec08e4eefe7e59e83b.jpg: 64x64 (no detections), 122.6ms\n",
            "image 199/253 /content/drive/MyDrive/Minor_project/plant_dataset/test/images/496_jpg.rf.39c9d80153ae7d9bae8368f51e657cc7.jpg: 64x64 (no detections), 116.8ms\n",
            "image 200/253 /content/drive/MyDrive/Minor_project/plant_dataset/test/images/518_jpg.rf.60ff51f1bd3cb5635e847090c64a0fbc.jpg: 64x64 1 The following pre-processing was applied to each image-, 113.5ms\n",
            "image 201/253 /content/drive/MyDrive/Minor_project/plant_dataset/test/images/534_jpg.rf.aa11041ca8fc2113b0164fba206af9fe.jpg: 64x64 1 28, 111.2ms\n",
            "image 202/253 /content/drive/MyDrive/Minor_project/plant_dataset/test/images/535_jpg.rf.d27dc4b781dad48420c9d8fac8285e49.jpg: 64x64 2 12s, 114.0ms\n",
            "image 203/253 /content/drive/MyDrive/Minor_project/plant_dataset/test/images/537_jpg.rf.ade1bd7385e9d3aa8cf3ab23d94887c3.jpg: 64x64 (no detections), 112.2ms\n",
            "image 204/253 /content/drive/MyDrive/Minor_project/plant_dataset/test/images/547_jpg.rf.cdb893e7de9ab15d95dfc2496d7bf403.jpg: 64x64 (no detections), 119.2ms\n",
            "image 205/253 /content/drive/MyDrive/Minor_project/plant_dataset/test/images/557_jpg.rf.3403ff96ba3e6c52a03fb47b9c21d416.jpg: 64x64 (no detections), 109.2ms\n",
            "image 206/253 /content/drive/MyDrive/Minor_project/plant_dataset/test/images/570_jpg.rf.93981cd7c5e04cb67c689c4e0f3931bb.jpg: 64x64 (no detections), 113.7ms\n",
            "image 207/253 /content/drive/MyDrive/Minor_project/plant_dataset/test/images/586_jpg.rf.67e99110e9f44b106994fff6323f661d.jpg: 64x64 (no detections), 107.4ms\n",
            "image 208/253 /content/drive/MyDrive/Minor_project/plant_dataset/test/images/589_jpg.rf.9e305f2cbbb520fee83d21594e790b50.jpg: 64x64 1 19, 104.5ms\n",
            "image 209/253 /content/drive/MyDrive/Minor_project/plant_dataset/test/images/590_jpg.rf.c5d234b9ba1f70278a3af7884171e597.jpg: 64x64 1 10, 109.0ms\n",
            "image 210/253 /content/drive/MyDrive/Minor_project/plant_dataset/test/images/603_jpg.rf.c7d356cb0f3a28836af4849809a5d24d.jpg: 64x64 1 27, 118.4ms\n",
            "image 211/253 /content/drive/MyDrive/Minor_project/plant_dataset/test/images/611_jpg.rf.53a9d63f8932f463c5c704ff72a21adf.jpg: 64x64 1 -, 123.8ms\n",
            "image 212/253 /content/drive/MyDrive/Minor_project/plant_dataset/test/images/623_jpg.rf.90c2245ecd44fdf4e4d8cb1ed58fec20.jpg: 64x64 1 10, 108.3ms\n",
            "image 213/253 /content/drive/MyDrive/Minor_project/plant_dataset/test/images/625_jpg.rf.33f5914bfa7c20cdada063bd4cf76f2c.jpg: 64x64 1 -, 1 25, 1 27, 1 28, 108.2ms\n",
            "image 214/253 /content/drive/MyDrive/Minor_project/plant_dataset/test/images/628_jpg.rf.5d187dc850e0ab469484520dbbfa441a.jpg: 64x64 1 27, 136.1ms\n",
            "image 215/253 /content/drive/MyDrive/Minor_project/plant_dataset/test/images/63_jpg.rf.5816e71cb7a57ba6a540c8fe00a7a1d3.jpg: 64x64 1 10, 108.3ms\n",
            "image 216/253 /content/drive/MyDrive/Minor_project/plant_dataset/test/images/640_jpg.rf.937cf466e0b79efe1154bf5449daa7fe.jpg: 64x64 (no detections), 117.9ms\n",
            "image 217/253 /content/drive/MyDrive/Minor_project/plant_dataset/test/images/653_jpg.rf.8b92e6b9abf359568c817dfb2cc369ee.jpg: 64x64 1 28, 121.3ms\n",
            "image 218/253 /content/drive/MyDrive/Minor_project/plant_dataset/test/images/674_jpg.rf.b32181fc615c19e2ff9542c3a8059552.jpg: 64x64 (no detections), 100.4ms\n",
            "image 219/253 /content/drive/MyDrive/Minor_project/plant_dataset/test/images/677_jpg.rf.531c52a6d0dd41767cb20dd7ca34090b.jpg: 64x64 (no detections), 74.9ms\n",
            "image 220/253 /content/drive/MyDrive/Minor_project/plant_dataset/test/images/698_jpg.rf.6821f60e05c6285b14cb225725218853.jpg: 64x64 1 29, 72.9ms\n",
            "image 221/253 /content/drive/MyDrive/Minor_project/plant_dataset/test/images/699_jpg.rf.4e45ff3dce2b1212b45479fb1f9545f5.jpg: 64x64 1 29, 73.0ms\n",
            "image 222/253 /content/drive/MyDrive/Minor_project/plant_dataset/test/images/69_jpg.rf.797e215f15f1165c3ff20270fcc00749.jpg: 64x64 1 -, 78.7ms\n",
            "image 223/253 /content/drive/MyDrive/Minor_project/plant_dataset/test/images/70_jpg.rf.61c86f6170216c83928655c334a1c3f1.jpg: 64x64 2 9s, 79.6ms\n",
            "image 224/253 /content/drive/MyDrive/Minor_project/plant_dataset/test/images/740_jpg.rf.c6e8c9ccf5236e5d985b7ef3e4835bb8.jpg: 64x64 (no detections), 73.9ms\n",
            "image 225/253 /content/drive/MyDrive/Minor_project/plant_dataset/test/images/749_jpg.rf.1b85adaf4bb4e1ddbbf9aacbce6f0e61.jpg: 64x64 1 29, 75.3ms\n",
            "image 226/253 /content/drive/MyDrive/Minor_project/plant_dataset/test/images/753_jpg.rf.f31e0122f03e3af0cf46f3f6ff4bc092.jpg: 64x64 1 28, 87.0ms\n",
            "image 227/253 /content/drive/MyDrive/Minor_project/plant_dataset/test/images/765_jpg.rf.6244904f3be44a7d86006d8de50a82bc.jpg: 64x64 1 28, 76.5ms\n",
            "image 228/253 /content/drive/MyDrive/Minor_project/plant_dataset/test/images/792_jpg.rf.806edc0ff1ad620ffec723c0550740e7.jpg: 64x64 (no detections), 73.8ms\n",
            "image 229/253 /content/drive/MyDrive/Minor_project/plant_dataset/test/images/7_jpg.rf.fa9845878f7238d6a188ac7019b09bb8.jpg: 64x64 (no detections), 71.7ms\n",
            "image 230/253 /content/drive/MyDrive/Minor_project/plant_dataset/test/images/80_jpg.rf.2dd323e94cf7c0206faa00bacb136d6a.jpg: 64x64 (no detections), 72.2ms\n",
            "image 231/253 /content/drive/MyDrive/Minor_project/plant_dataset/test/images/826_jpg.rf.c1d7507b7d0d778e1ffb9de2a1e29ce1.jpg: 64x64 1 9, 81.0ms\n",
            "image 232/253 /content/drive/MyDrive/Minor_project/plant_dataset/test/images/829_jpg.rf.4a7bb975c57a0e1e68298096ae252467.jpg: 64x64 (no detections), 77.3ms\n",
            "image 233/253 /content/drive/MyDrive/Minor_project/plant_dataset/test/images/845_jpg.rf.1aa9c8078ebc17c419e9f74cd562f059.jpg: 64x64 2 10s, 75.1ms\n",
            "image 234/253 /content/drive/MyDrive/Minor_project/plant_dataset/test/images/846_jpg.rf.ee6f61b3e95a8315a5d63aa8b9ffd930.jpg: 64x64 3 10s, 73.7ms\n",
            "image 235/253 /content/drive/MyDrive/Minor_project/plant_dataset/test/images/853_jpg.rf.d8012ce892c9e6b6471c9a62cddd2987.jpg: 64x64 2 10s, 90.4ms\n",
            "image 236/253 /content/drive/MyDrive/Minor_project/plant_dataset/test/images/864_jpg.rf.4b635e9c09fdb4130e95735defe349d2.jpg: 64x64 (no detections), 75.8ms\n",
            "image 237/253 /content/drive/MyDrive/Minor_project/plant_dataset/test/images/870_jpg.rf.c65f6dd3849cdcda75bf56dde1c590cc.jpg: 64x64 1 27, 1 29, 75.3ms\n",
            "image 238/253 /content/drive/MyDrive/Minor_project/plant_dataset/test/images/872_jpg.rf.51ebc99cf63174c01331445b78defc31.jpg: 64x64 1 9, 77.5ms\n",
            "image 239/253 /content/drive/MyDrive/Minor_project/plant_dataset/test/images/878_jpg.rf.ef6983fc7e7f3d72df0c284424624001.jpg: 64x64 (no detections), 77.2ms\n",
            "image 240/253 /content/drive/MyDrive/Minor_project/plant_dataset/test/images/887_jpg.rf.5b03d74a87398c1fbd25f0663d5f1e97.jpg: 64x64 (no detections), 70.9ms\n",
            "image 241/253 /content/drive/MyDrive/Minor_project/plant_dataset/test/images/892_jpg.rf.b937ba50fbb8ebacd1c64331b439c630.jpg: 64x64 1 29, 77.8ms\n",
            "image 242/253 /content/drive/MyDrive/Minor_project/plant_dataset/test/images/894_jpg.rf.8f3bfb4887427705046edc0b57aabdae.jpg: 64x64 1 13, 75.0ms\n",
            "image 243/253 /content/drive/MyDrive/Minor_project/plant_dataset/test/images/897_jpg.rf.b5427cbc94996262cb758f8628fe31fa.jpg: 64x64 (no detections), 78.4ms\n",
            "image 244/253 /content/drive/MyDrive/Minor_project/plant_dataset/test/images/899_jpg.rf.2a1bbe9580ef42282e4d39d52b3e4f86.jpg: 64x64 (no detections), 77.5ms\n",
            "image 245/253 /content/drive/MyDrive/Minor_project/plant_dataset/test/images/907_jpg.rf.19cd96c58b62627cbfbd990e1a87aaad.jpg: 64x64 2 25s, 88.7ms\n",
            "image 246/253 /content/drive/MyDrive/Minor_project/plant_dataset/test/images/916_jpg.rf.6ae30cc33c3d6b79c322bdc647fa28e0.jpg: 64x64 (no detections), 74.3ms\n",
            "image 247/253 /content/drive/MyDrive/Minor_project/plant_dataset/test/images/928_jpg.rf.83ef421b8c4658a964032ee1ced03cae.jpg: 64x64 1 9, 81.1ms\n",
            "image 248/253 /content/drive/MyDrive/Minor_project/plant_dataset/test/images/930_jpg.rf.0e697bc9dc05be6419a4e7cb9be73fd3.jpg: 64x64 (no detections), 72.3ms\n",
            "image 249/253 /content/drive/MyDrive/Minor_project/plant_dataset/test/images/940_jpg.rf.ae366bab7fb0bc641cc53e313ec6613a.jpg: 64x64 1 29, 70.8ms\n",
            "image 250/253 /content/drive/MyDrive/Minor_project/plant_dataset/test/images/949_jpg.rf.9b13aec969476d69771b2372bb83474b.jpg: 64x64 1 28, 74.2ms\n",
            "image 251/253 /content/drive/MyDrive/Minor_project/plant_dataset/test/images/993_jpg.rf.89966ef3d76b03a9b7ded1ae3329f821.jpg: 64x64 (no detections), 75.0ms\n",
            "image 252/253 /content/drive/MyDrive/Minor_project/plant_dataset/test/images/994_jpg.rf.52197a88b2dc52df755251275fb0738b.jpg: 64x64 2 10s, 70.8ms\n",
            "image 253/253 /content/drive/MyDrive/Minor_project/plant_dataset/test/images/998_jpg.rf.836e3f1544dfb555e8fc070ecedb81d1.jpg: 64x64 1 29, 75.2ms\n",
            "Speed: 0.5ms preprocess, 90.4ms inference, 0.8ms postprocess per image at shape (1, 3, 64, 64)\n",
            "Results saved to \u001b[1mruns/detect/predict\u001b[0m\n",
            "💡 Learn more at https://docs.ultralytics.com/modes/predict\n"
          ]
        }
      ]
    },
    {
      "cell_type": "code",
      "source": [
        "!cp -r /content/runs/detect/predict /content/drive/MyDrive/Minor_project/plant_dataset/output"
      ],
      "metadata": {
        "id": "uFqXTQjnYVtS"
      },
      "execution_count": null,
      "outputs": []
    },
    {
      "cell_type": "code",
      "source": [
        "!yolo task=detect mode=predict model=/content/drive/MyDrive/Minor_project/plant_dataset/results/leaves10/weights/best.pt conf=0.35 source=/content/photo.jpg"
      ],
      "metadata": {
        "colab": {
          "base_uri": "https://localhost:8080/"
        },
        "id": "0O4KHroPp1pK",
        "outputId": "1e8c8f93-aec2-4d2c-c439-d82ac43f9a59"
      },
      "execution_count": null,
      "outputs": [
        {
          "output_type": "stream",
          "name": "stdout",
          "text": [
            "Ultralytics YOLOv8.1.6 🚀 Python-3.10.12 torch-2.1.0+cu121 CPU (Intel Xeon 2.20GHz)\n",
            "Model summary (fused): 268 layers, 43629738 parameters, 0 gradients, 164.9 GFLOPs\n",
            "\n",
            "image 1/1 /content/photo.jpg: 64x64 (no detections), 116.6ms\n",
            "Speed: 0.8ms preprocess, 116.6ms inference, 1.7ms postprocess per image at shape (1, 3, 64, 64)\n",
            "Results saved to \u001b[1mruns/detect/predict3\u001b[0m\n",
            "💡 Learn more at https://docs.ultralytics.com/modes/predict\n"
          ]
        }
      ]
    },
    {
      "cell_type": "code",
      "source": [
        "#!yolo task=detect mode=predict model=/content/drive/MyDrive/Minor_project/plant_dataset/results/leaves10/weights/best.pt conf=0.5 source=/content/drive/MyDrive/Minor_project/plant_dataset/video"
      ],
      "metadata": {
        "id": "TP-S5fcRiB9L"
      },
      "execution_count": null,
      "outputs": []
    },
    {
      "cell_type": "code",
      "source": [
        "!cp -r /content/runs/detect/predict3 /content/drive/MyDrive/Minor_project/plant_dataset/output"
      ],
      "metadata": {
        "id": "6e0z4ZbhpyYB"
      },
      "execution_count": null,
      "outputs": []
    },
    {
      "cell_type": "code",
      "source": [
        "!yolo task=detect mode=predict model=/content/drive/MyDrive/Minor_project/plant_dataset/results/leaves10/weights/best.pt conf=0.35 source=/content/drive/MyDrive/Minor_project/4_jpg.rf.95ed78fd6d033a47d04cd1b9a7b4883c.jpg"
      ],
      "metadata": {
        "colab": {
          "base_uri": "https://localhost:8080/"
        },
        "id": "T8g5K-tCrL-b",
        "outputId": "7dfc1e81-6799-45ae-9e25-619976cab6ca"
      },
      "execution_count": null,
      "outputs": [
        {
          "output_type": "stream",
          "name": "stdout",
          "text": [
            "Ultralytics YOLOv8.1.6 🚀 Python-3.10.12 torch-2.1.0+cu121 CPU (Intel Xeon 2.20GHz)\n",
            "Model summary (fused): 268 layers, 43629738 parameters, 0 gradients, 164.9 GFLOPs\n",
            "\n",
            "image 1/1 /content/drive/MyDrive/Minor_project/4_jpg.rf.95ed78fd6d033a47d04cd1b9a7b4883c.jpg: 64x64 (no detections), 75.1ms\n",
            "Speed: 0.5ms preprocess, 75.1ms inference, 0.8ms postprocess per image at shape (1, 3, 64, 64)\n",
            "Results saved to \u001b[1mruns/detect/predict4\u001b[0m\n",
            "💡 Learn more at https://docs.ultralytics.com/modes/predict\n"
          ]
        }
      ]
    },
    {
      "cell_type": "code",
      "source": [
        "!cp -r /content/runs/detect/predict4 /content/drive/MyDrive/Minor_project/plant_dataset/output"
      ],
      "metadata": {
        "id": "M5glxCKFrThQ"
      },
      "execution_count": null,
      "outputs": []
    },
    {
      "cell_type": "code",
      "source": [
        "!cp -r /content/runs/detect/predict2 /content/drive/MyDrive/Minor_project/plant_dataset/output"
      ],
      "metadata": {
        "id": "qdo6OnO4jGf8"
      },
      "execution_count": null,
      "outputs": []
    }
  ],
  "metadata": {
    "colab": {
      "provenance": [],
      "mount_file_id": "1_Gxx4ZExih-TGZswrrQJ3LB82CZCF8Q7",
      "authorship_tag": "ABX9TyM2XXag5I73cqVrvPVnzGKN",
      "include_colab_link": true
    },
    "kernelspec": {
      "display_name": "Python 3",
      "name": "python3"
    },
    "language_info": {
      "name": "python"
    }
  },
  "nbformat": 4,
  "nbformat_minor": 0
}